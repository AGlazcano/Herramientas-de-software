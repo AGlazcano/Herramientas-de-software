{
 "cells": [
  {
   "cell_type": "code",
   "execution_count": null,
   "id": "dc42164e",
   "metadata": {},
   "outputs": [
    {
     "name": "stderr",
     "output_type": "stream",
     "text": [
      "usage: ipykernel_launcher.py [-h] input_file output_file angle\n",
      "ipykernel_launcher.py: error: the following arguments are required: input_file, output_file, angle\n"
     ]
    },
    {
     "ename": "SystemExit",
     "evalue": "2",
     "output_type": "error",
     "traceback": [
      "An exception has occurred, use %tb to see the full traceback.\n",
      "\u001b[31mSystemExit\u001b[39m\u001b[31m:\u001b[39m 2\n"
     ]
    }
   ],
   "source": [
    "from PIL import Image\n",
    "import argparse # importa el módulo argparse\n",
    "\n",
    "# inicializa el analizador sintáctico\n",
    "parser = argparse.ArgumentParser()\n",
    "parser.add_argument('input_file')      # primer argumento: archivo de entrada\n",
    "parser.add_argument('output_file')     # segundo argumento: archivo de salida\n",
    "parser.add_argument('angle', type=int) # tercer argumento: ángulo\n",
    "\n",
    "\n",
    "args = parser.parse_args()              # analiza los argumentos\n",
    "im = Image.open(args.input_file)        # carga una imagen del argumento input_file\n",
    "print(im.size)\n",
    "rotated = im.rotate(args.angle, expand=True)     # gira la imagen en un ángulo proporcionado como argumento\n",
    "rotated.save(args.output_file)                   # guarda la imagen girada usando la ruta de salida de un argumento output_file\n",
    "print(rotated.size)\n",
    "\n",
    "\n"
   ]
  },
  {
   "cell_type": "code",
   "execution_count": null,
   "id": "6f4e9f61",
   "metadata": {},
   "outputs": [
    {
     "name": "stderr",
     "output_type": "stream",
     "text": [
      "usage: ipykernel_launcher.py [-h] [--angle ANGLE] input_file output_file\n",
      "ipykernel_launcher.py: error: the following arguments are required: input_file, output_file\n"
     ]
    },
    {
     "ename": "SystemExit",
     "evalue": "2",
     "output_type": "error",
     "traceback": [
      "An exception has occurred, use %tb to see the full traceback.\n",
      "\u001b[31mSystemExit\u001b[39m\u001b[31m:\u001b[39m 2\n"
     ]
    }
   ],
   "source": [
    "# image_rotator.py\n",
    "\n",
    "from PIL import Image\n",
    "import argparse\n",
    "\n",
    "# inicializa el analizador sintáctico\n",
    "parser = argparse.ArgumentParser()\n",
    "\n",
    "parser.add_argument('input_file')                              # agrega argumentos con sus nombres correspondientes       \n",
    "parser.add_argument('output_file')\n",
    "parser.add_argument('--angle', '-a', type=int, default=90)     # observa que a continuación usamos opciones y el valor predeterminado para esta opción\n",
    "args = parser.parse_args()                                     # analiza los argumentos\n",
    "im = Image.open(args.input_file)\n",
    "print(im.size)\n",
    "rotated = im.rotate(args.angle)                                # gira la imagen en un ángulo proporcionado como argumento\n",
    "rotated.save(args.output_file)                                 # guarda la imagen girada usando la ruta de salida de un argumento output_file"
   ]
  }
 ],
 "metadata": {
  "kernelspec": {
   "display_name": "Python 3",
   "language": "python",
   "name": "python3"
  },
  "language_info": {
   "codemirror_mode": {
    "name": "ipython",
    "version": 3
   },
   "file_extension": ".py",
   "mimetype": "text/x-python",
   "name": "python",
   "nbconvert_exporter": "python",
   "pygments_lexer": "ipython3",
   "version": "3.13.5"
  }
 },
 "nbformat": 4,
 "nbformat_minor": 5
}
